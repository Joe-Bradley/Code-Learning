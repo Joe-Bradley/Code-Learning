{
 "cells": [
  {
   "cell_type": "code",
   "execution_count": null,
   "metadata": {},
   "outputs": [],
   "source": [
    "字符串:在Python中用引号引起来的字符集称之为字符串\n",
    "       比如：'hello'、\"my Python\"、\"2+3\"等都是字符串\n",
    "\n",
    "type():查看数据类型\n",
    "eval():输出数字型字符串的值，规范整数，输出整数 \"0123\" 不行\n",
    "len() :输出字符串的长度\n",
    "\n",
    "#论文去空格\n",
    "a=\"\"\"...\"\"\"\n",
    "c=a.split()\n",
    "b=''.join(c)\n",
    "\n",
    "\n",
    "错误程序：\n",
    "a1 = hello 错误\n",
    "d1 = d[2:1] 输出一个空字符\n",
    "d2 = d[-1:1] 输出一个空字符\n",
    "d3 = d[1,2] 错误：字符串的指标必须是一个整数\n",
    "d4 = d[10]  错误：指标不能超过字符串范围，但是在指标区间中可以超过\n",
    "d5 = d[-4:0] 输出一个空字符"
   ]
  },
  {
   "cell_type": "code",
   "execution_count": 40,
   "metadata": {
    "scrolled": true
   },
   "outputs": [],
   "source": [
    "#单引号,双引号,三引号的使用\n",
    "a1 = 'hello'\n",
    "a2 = \"hello\"\n",
    "a3 = \"\"\"hello\"\"\"\n",
    "a4 = \"\"\"Hello\n",
    "I Love Python\"\"\""
   ]
  },
  {
   "cell_type": "code",
   "execution_count": 28,
   "metadata": {},
   "outputs": [],
   "source": [
    "#转义字符的使用\n",
    "b1 = 'It\\'s a dog'\n",
    "b2 = 'hello\\nhello'\n",
    "b3 = 'hello\\n\\\n",
    "hello'\n",
    "b4 = r'hello\\nhello'\n",
    "b5 = 'hello\\n'*20"
   ]
  },
  {
   "cell_type": "code",
   "execution_count": 109,
   "metadata": {},
   "outputs": [],
   "source": [
    "#字符串的∪\n",
    "c1 = 'Fuck' + 'you '\n",
    "c2 = c1*10 + '\\n'"
   ]
  },
  {
   "cell_type": "code",
   "execution_count": 99,
   "metadata": {
    "scrolled": true
   },
   "outputs": [],
   "source": [
    "#字符串索引\n",
    "#左闭右开\n",
    "d = '0123456789'\n",
    "d1 = d[0]\n",
    "d2 = d[1]\n",
    "d3 = d[-1]\n",
    "d4 = d[0:3]\n",
    "d5 = d[0:10]\n",
    "d6 = d[0:]\n",
    "d7 = d[-4:-1]\n",
    "d8 = d[0:100]"
   ]
  },
  {
   "cell_type": "code",
   "execution_count": 110,
   "metadata": {},
   "outputs": [],
   "source": [
    "#eval()函数的用法\n",
    "#注意：eval()函数只能用于规范的字符串,并且取整数\n",
    "e = '12.5'\n",
    "e1 = eval(\"a\") #str\n",
    "e2 = eval(a)   #int啊"
   ]
  }
 ],
 "metadata": {
  "kernelspec": {
   "display_name": "Python 3",
   "language": "python",
   "name": "python3"
  },
  "language_info": {
   "codemirror_mode": {
    "name": "ipython",
    "version": 3
   },
   "file_extension": ".py",
   "mimetype": "text/x-python",
   "name": "python",
   "nbconvert_exporter": "python",
   "pygments_lexer": "ipython3",
   "version": "3.7.0"
  }
 },
 "nbformat": 4,
 "nbformat_minor": 2
}
