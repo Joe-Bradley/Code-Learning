{
 "cells": [
  {
   "cell_type": "code",
   "execution_count": null,
   "metadata": {},
   "outputs": [],
   "source": [
    "列表和元组就是用来存储一连串元素的容器。\n",
    "区别一：列表里面的元素的值可以修改，元组里面的元素的值不能修改，只能读取。\n",
    "区别二：列表的符号是[],元组的符号是（）\n",
    "相同点：调用都用a[7]"
   ]
  },
  {
   "cell_type": "code",
   "execution_count": 4,
   "metadata": {},
   "outputs": [],
   "source": [
    "a=[\"小明\",\"小华\",\"小李\",\"小娟\",\"小云\",3,(1,2)] #列表\n",
    "b=(\"小明\",\"小军\",\"小强\",\"小武\",\"小龙\")          #元组 "
   ]
  },
  {
   "cell_type": "code",
   "execution_count": null,
   "metadata": {},
   "outputs": [],
   "source": []
  }
 ],
 "metadata": {
  "kernelspec": {
   "display_name": "Python 3",
   "language": "python",
   "name": "python3"
  },
  "language_info": {
   "codemirror_mode": {
    "name": "ipython",
    "version": 3
   },
   "file_extension": ".py",
   "mimetype": "text/x-python",
   "name": "python",
   "nbconvert_exporter": "python",
   "pygments_lexer": "ipython3",
   "version": "3.7.0"
  }
 },
 "nbformat": 4,
 "nbformat_minor": 2
}
