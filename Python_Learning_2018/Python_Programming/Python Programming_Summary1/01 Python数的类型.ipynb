{
 "cells": [
  {
   "cell_type": "code",
   "execution_count": null,
   "metadata": {},
   "outputs": [],
   "source": [
    "数的类型：\n",
    "整数型(int)     例如：0、1、-1、1009、-290这些等等都是int型。\n",
    "长整型(long)    例如：87887l、-90990l、234567l这些等等都是long型。\n",
    "浮点型(float)   例如：2.7788、3.277、8.88这些等等都是float型。\n",
    "布尔型(bool)    例如：True & False\n",
    "复数型(complex) 例如：4+2j、-9+20j、56+7j这种类型属于复数类型。"
   ]
  }
 ],
 "metadata": {
  "kernelspec": {
   "display_name": "Python 3",
   "language": "python",
   "name": "python3"
  },
  "language_info": {
   "codemirror_mode": {
    "name": "ipython",
    "version": 3
   },
   "file_extension": ".py",
   "mimetype": "text/x-python",
   "name": "python",
   "nbconvert_exporter": "python",
   "pygments_lexer": "ipython3",
   "version": "3.7.0"
  }
 },
 "nbformat": 4,
 "nbformat_minor": 2
}
