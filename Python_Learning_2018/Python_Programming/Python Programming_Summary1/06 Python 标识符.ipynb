{
 "cells": [
  {
   "cell_type": "code",
   "execution_count": null,
   "metadata": {},
   "outputs": [],
   "source": [
    "1.标识符：起的名字。（变量，常量）\n",
    "2.有效标识符：按正确命名规则命名的可以使用的标识符。\n",
    "  无效标识符：按错误命名规则命名的不能使用的标识符。\n",
    "3.标识符第一个字符必须只能是字母或下划线（a _）。\n",
    "4.第一个字符不能出现数字或其他字符,其他部分可以是字母或者下划线或者数字。\n",
    "5.标识符大小写敏感，比如name跟Name是不同的标识符。\n",
    "6.避免跟保留关键字冲突的一个方法是加下划线:lambda_"
   ]
  },
  {
   "cell_type": "code",
   "execution_count": null,
   "metadata": {},
   "outputs": [],
   "source": [
    "#输出系统关键字\n",
    "import keyword\n",
    "print(keyword.kwlist) "
   ]
  }
 ],
 "metadata": {
  "kernelspec": {
   "display_name": "Python 3",
   "language": "python",
   "name": "python3"
  },
  "language_info": {
   "codemirror_mode": {
    "name": "ipython",
    "version": 3
   },
   "file_extension": ".py",
   "mimetype": "text/x-python",
   "name": "python",
   "nbconvert_exporter": "python",
   "pygments_lexer": "ipython3",
   "version": "3.7.0"
  }
 },
 "nbformat": 4,
 "nbformat_minor": 2
}
