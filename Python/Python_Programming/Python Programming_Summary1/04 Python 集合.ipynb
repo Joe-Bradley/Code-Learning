{
 "cells": [
  {
   "cell_type": "markdown",
   "metadata": {},
   "source": [
    "Python \n",
    "集合的两个功能：\n",
    "1.进行集合操作。(按照大小顺序排列)\n",
    "2.消除重复元素。 \n",
    "\n",
    "集合的格式是：set(元素)\n",
    "集合的类型：set\n",
    "集合里面能够用：元组，列表，字符串(降重)，（不能单独使用常量）\n",
    "表现形式：{1,2,3,4,5}"
   ]
  },
  {
   "cell_type": "code",
   "execution_count": 26,
   "metadata": {},
   "outputs": [
    {
     "name": "stdout",
     "output_type": "stream",
     "text": [
      "{1, 'asdjkasl'}\n",
      "{1, 2, 3, 4, 123}\n",
      "{'4', '3', '2', '1'}\n"
     ]
    }
   ],
   "source": [
    "a = set(('asdjkasl',1))\n",
    "b = set([1,2,3,4,1,123,2,3,4])\n",
    "c = set('12321421')\n",
    "print(a)\n",
    "print(b)\n",
    "print(c)"
   ]
  },
  {
   "cell_type": "code",
   "execution_count": 32,
   "metadata": {},
   "outputs": [
    {
     "name": "stdout",
     "output_type": "stream",
     "text": [
      "{'m', 'c'}\n",
      "{'b', 'm', 'g', 'a', 'f', 'n', 's', 'c', 'd'}\n",
      "{'b', 'g', 'a', 'n', 's'}\n"
     ]
    }
   ],
   "source": [
    "a = set(\"abcnmaaaaggsng\")\n",
    "b = set(\"cdfm\")\n",
    "print(a&b) #交集\n",
    "print(a|b) #并集\n",
    "print(a-b) #差集"
   ]
  }
 ],
 "metadata": {
  "kernelspec": {
   "display_name": "Python 3",
   "language": "python",
   "name": "python3"
  },
  "language_info": {
   "codemirror_mode": {
    "name": "ipython",
    "version": 3
   },
   "file_extension": ".py",
   "mimetype": "text/x-python",
   "name": "python",
   "nbconvert_exporter": "python",
   "pygments_lexer": "ipython3",
   "version": "3.7.0"
  }
 },
 "nbformat": 4,
 "nbformat_minor": 2
}
