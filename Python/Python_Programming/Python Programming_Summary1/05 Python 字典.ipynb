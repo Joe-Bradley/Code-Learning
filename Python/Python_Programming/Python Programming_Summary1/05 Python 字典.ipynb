{
 "cells": [
  {
   "cell_type": "code",
   "execution_count": null,
   "metadata": {},
   "outputs": [],
   "source": [
    "Python中的字典也叫做关联数组。就是一个映射{a(i)-->b(i)}\n",
    "用大括号{}括起来。\n",
    "调用元素的时候当成{元组&列表}处理: a[3]"
   ]
  },
  {
   "cell_type": "code",
   "execution_count": 16,
   "metadata": {},
   "outputs": [
    {
     "name": "stdout",
     "output_type": "stream",
     "text": [
      "{'b': 'B', 'c': 'C', 'd': 'D'}\n",
      "B\n",
      "dict_keys(['b', 'c', 'd'])\n"
     ]
    }
   ],
   "source": [
    "a = {'a':'A','b':'B','c':'C'} #定义字典\n",
    "a['d'] = 'D'   #加入映射\n",
    "a.pop('a')     #删除映射\n",
    "print(a)       #输出完整的字典\n",
    "print(a['b'])  #输出因变量的某个值\n",
    "print(a.keys())#输出自变量"
   ]
  }
 ],
 "metadata": {
  "kernelspec": {
   "display_name": "Python 3",
   "language": "python",
   "name": "python3"
  },
  "language_info": {
   "codemirror_mode": {
    "name": "ipython",
    "version": 3
   },
   "file_extension": ".py",
   "mimetype": "text/x-python",
   "name": "python",
   "nbconvert_exporter": "python",
   "pygments_lexer": "ipython3",
   "version": "3.7.0"
  }
 },
 "nbformat": 4,
 "nbformat_minor": 2
}
