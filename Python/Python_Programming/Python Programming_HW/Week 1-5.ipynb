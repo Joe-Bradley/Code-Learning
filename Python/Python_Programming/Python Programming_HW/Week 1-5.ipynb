{
 "cells": [
  {
   "cell_type": "markdown",
   "metadata": {},
   "source": [
    "2.1: 编写程序，输出一个9位的长整数，将其分解为三个三位的基本整数并输出，其中个、十、百位为一个整数，千、万、十万位为一个整数，百万、千万、亿位为一个整数。例如123456789分解成123、456、789。三个整数分行输出。"
   ]
  },
  {
   "cell_type": "code",
   "execution_count": 1,
   "metadata": {
    "scrolled": true
   },
   "outputs": [
    {
     "name": "stdout",
     "output_type": "stream",
     "text": [
      "请输入一个九位数的数字：123456789\n",
      "123\n",
      "456\n",
      "789\n"
     ]
    }
   ],
   "source": [
    "a = eval(input(\"请输入一个九位数的数字：\"))\n",
    "b = a//1000000\n",
    "c = a//1000%1000\n",
    "d = a%1000\n",
    "print(b)\n",
    "print(c)\n",
    "print(d)"
   ]
  },
  {
   "cell_type": "markdown",
   "metadata": {},
   "source": [
    "2.2: 编写程序，从键盘输入一个4位正整数，输出该数的反序数。反序数即原数各位上的数字颠倒次序形成的另一个整数，如1234的反序数是4321，2468的反序数是8642。需整型输出。"
   ]
  },
  {
   "cell_type": "code",
   "execution_count": 2,
   "metadata": {},
   "outputs": [
    {
     "name": "stdout",
     "output_type": "stream",
     "text": [
      "请输入一个四位数的数字：1234\n",
      "4321\n"
     ]
    }
   ],
   "source": [
    "a = eval(input(\"请输入一个四位数的数字：\"))\n",
    "b = a//1000 + a//100%10*10 +  a//10%10*100 + a%10*1000\n",
    "print(b)"
   ]
  },
  {
   "cell_type": "markdown",
   "metadata": {},
   "source": [
    "2.3: 编写程序，从键盘输入分钟数（例如1000000），输出这些分钟代表多少年零多少天零多少小时零多少分钟。为了简化问题，假设一年有365天。输出格式为：xxyears xxdays xxhours xxmins"
   ]
  },
  {
   "cell_type": "code",
   "execution_count": 3,
   "metadata": {},
   "outputs": [
    {
     "name": "stdout",
     "output_type": "stream",
     "text": [
      "请输入一个分钟数：1234567890\n",
      "2348years 318days 19hours 30mins\n"
     ]
    }
   ],
   "source": [
    "a = eval(input(\"请输入一个分钟数：\"))\n",
    "b = a//(365*60*24)\n",
    "c = a%(365*60*24)//(60*24)\n",
    "d = a%(365*60*24)%(60*24)//60\n",
    "e = a%(365*60*24)%(60*24)%60\n",
    "print(b,\"years\",\" \",c,\"days\",\" \",d,\"hours\",\" \",e,\"mins\",sep = \"\")"
   ]
  },
  {
   "cell_type": "markdown",
   "metadata": {},
   "source": [
    "2.4: 编写程序，输入水的质量以及水的初始温度和最终温度，计算并输出将水从初始温度加热到最终温度所需的能量。 \n",
    "计算能量的公式为： \n",
    "Q=M*(最终温度-初始温度)*4184 \n",
    "其中M是以千克为单位的水的质量，温度以摄氏度为单位，能量以焦耳为单位。 "
   ]
  },
  {
   "cell_type": "code",
   "execution_count": 7,
   "metadata": {},
   "outputs": [
    {
     "name": "stdout",
     "output_type": "stream",
     "text": [
      "10 50 1232\n",
      "49454880.0\n"
     ]
    }
   ],
   "source": [
    "x = input().split()\n",
    "a = float(x[0])\n",
    "b = float(x[1])\n",
    "c = float(x[2])\n",
    "d = a*(c-b)*4184\n",
    "print(d)"
   ]
  },
  {
   "cell_type": "markdown",
   "metadata": {},
   "source": [
    "3.1: 给出一个字符串，字符串中可能包含'A'-'Z','a'-'z',' '(空格)等字符。输出字母a（包括大小写）出现的次数。"
   ]
  },
  {
   "cell_type": "code",
   "execution_count": 4,
   "metadata": {
    "scrolled": true
   },
   "outputs": [
    {
     "name": "stdout",
     "output_type": "stream",
     "text": [
      "sjdkajsdioq\n",
      "1\n"
     ]
    }
   ],
   "source": [
    "a = input()\n",
    "n = a.count('a')\n",
    "print(n)"
   ]
  },
  {
   "cell_type": "markdown",
   "metadata": {},
   "source": [
    "3.2: 编写程序，将给定的字符串序列，按照字符ASCII码顺序从小到大排序后输出。"
   ]
  },
  {
   "cell_type": "code",
   "execution_count": 2,
   "metadata": {
    "scrolled": true
   },
   "outputs": [
    {
     "name": "stdout",
     "output_type": "stream",
     "text": [
      "wqjewioqjdsa\n",
      "adeijjoqqsww\n"
     ]
    }
   ],
   "source": [
    "a = input()\n",
    "a = list(a)\n",
    "a = sorted(a)\n",
    "a = \"\".join(a)\n",
    "print(a)"
   ]
  },
  {
   "cell_type": "markdown",
   "metadata": {},
   "source": [
    "3.3: 小张举办生日宴会，请帮助小张编写一段程序，由外部输入所有出席宴会的好友的姓名包括小王、小李、小赵、小钱等，并将姓名存到一个列表中。宴会结束后，如果想知道小王是第几个到达宴会的客人，请输出该数字。"
   ]
  },
  {
   "cell_type": "code",
   "execution_count": 7,
   "metadata": {},
   "outputs": [
    {
     "name": "stdout",
     "output_type": "stream",
     "text": [
      "xiaozhang,xiaowang,xiaoli,datou,erbao \n",
      "1\n"
     ]
    }
   ],
   "source": [
    "a = input().split(',')\n",
    "for i in range(0,len(a)):\n",
    "    if a[i] == \"xiaozhang\":\n",
    "        print(i+1)\n",
    "        break"
   ]
  },
  {
   "cell_type": "markdown",
   "metadata": {},
   "source": [
    "3.4: 列表中存放了n个整数，分别表示n个评委的评分，请编写程序，去掉其中的最高分和最低分，求剩下n-2个分数的平均值(保留两位小数)。"
   ]
  },
  {
   "cell_type": "code",
   "execution_count": 8,
   "metadata": {},
   "outputs": [
    {
     "name": "stdout",
     "output_type": "stream",
     "text": [
      "35, 78, 91, 35, 20, 10, 20, 80, 10, 90, 80, 10, 25, 35, 56, 72, 98, 43, 10, 38\n",
      "46.00\n"
     ]
    }
   ],
   "source": [
    "s = list(eval(input()))\n",
    "s.sort()\n",
    "s.pop(0)\n",
    "s.pop(-1)\n",
    "avg = sum(s)/len(s)\n",
    "print(\"%.2f\" % avg)"
   ]
  },
  {
   "cell_type": "markdown",
   "metadata": {},
   "source": [
    "3.5: 列表中存放了某次考试学生的考试成绩，请编写程序分别求出不及格学生和甲等（大于85）学生的平均成绩。（数据中肯定存在各一名成绩为85和60的学生，结果分行输出且保留两位小数）"
   ]
  },
  {
   "cell_type": "code",
   "execution_count": 9,
   "metadata": {},
   "outputs": [
    {
     "name": "stdout",
     "output_type": "stream",
     "text": [
      "85,55,93,75,56,47,67,90,24,88,60\n",
      "45.50\n",
      "90.33\n"
     ]
    }
   ],
   "source": [
    "s = list(eval(input()))\n",
    "a = 0\n",
    "b = 0\n",
    "m = 0\n",
    "n = 0\n",
    "for i in range(0,len(s)):\n",
    "    if s[i] < 60:\n",
    "        a = a + s[i]\n",
    "        m = m +1\n",
    "    if s[i] > 85:\n",
    "        b = b + s[i]\n",
    "        n = n+1\n",
    "avg1 = a/m\n",
    "avg2 = b/n\n",
    "print(\"%.2f\" % avg1)\n",
    "print(\"%.2f\" % avg2)"
   ]
  },
  {
   "cell_type": "markdown",
   "metadata": {},
   "source": [
    "3.6:\n",
    "请写出可生成以下4个数列的range()函数，以列表形式分行输出\n",
    "输入\n",
    "输出\n",
    "[1, 2, 3, 4, 5, 6, 7, 8, 9, 10] \n",
    "[2, 4, 6, 8, 10, 12, 14, 16, 18] \n",
    "[0, 5, 10, 15, 20, 25, 30, 35, 40, 45, 50] \n",
    "[10, 9, 8, 7, 6, 5, 4, 3, 2, 1] "
   ]
  },
  {
   "cell_type": "code",
   "execution_count": 10,
   "metadata": {},
   "outputs": [
    {
     "name": "stdout",
     "output_type": "stream",
     "text": [
      "[1, 2, 3, 4, 5, 6, 7, 8, 9, 10]\n",
      "[2, 4, 6, 8, 10, 12, 14, 16, 18]\n",
      "[0, 5, 10, 15, 20, 25, 30, 35, 40, 45, 50]\n",
      "[10, 9, 8, 7, 6, 5, 4, 3, 2, 1]\n"
     ]
    }
   ],
   "source": [
    "a = list(range(1,11))\n",
    "b = list(range(2,19,2))\n",
    "c = list(range(0,51,5))\n",
    "d = list(range(1,11))\n",
    "d.reverse()\n",
    "print(a,\"\\n\",b,\"\\n\",c,\"\\n\",d,sep = \"\")"
   ]
  },
  {
   "cell_type": "markdown",
   "metadata": {},
   "source": [
    "4.1: 题目描述\n",
    "自行建立一个月份与天数的字典monthdays，月份为‘Jan','Feb','Mar','Apr','May','Jun','Jul','Aug','Sep','Oct','Thi',对应的天数为31，28，31，30，31，30，31，31，30，31，40。 \n",
    "按顺序完成以下问题： \n",
    "（1）创建一个新的字典x = {'Nov':30,'Dec':31}，并将其包含的键值对追加到字典monthdays里。 \n",
    "（2）删除键为’Thi’的键值对。 \n",
    "（3）按照ASCII码顺序，输出字典monthdays的键序列。 \n",
    "（4）按大小排序显示字典monthdays的值序列。（从小到大） \n",
    "（5）按照字典的键排序，显示字典monthdays的键值对序列。 \n",
    "（6）获取键‘Mar'对应的值。 \n",
    "（7）获取键’Abc'对应的值，没有则显示'No Found!'。 \n",
    "（8）修改键‘Feb'的值为29，并输出该值。 \n",
    "以行的方式输出每一道小题的答案。 \n",
    "输入\n",
    "\n",
    "输出\n",
    "['Apr', 'Aug', 'Dec', 'Feb', 'Jan', 'Jul', 'Jun', 'Mar', 'May', 'Nov', 'Oct', 'Sep'] \n",
    "[28, 30, 30, 30, 30, 31, 31, 31, 31, 31, 31, 31] \n",
    "[('Apr', 30), ('Aug', 31), ('Dec', 31), ('Feb', 28), ('Jan', 31), ('Jul', 31), ('Jun', 30), ('Mar', 31), ('May', 31), ('Nov', 30), ('Oct', 31), ('Sep', 30)] \n",
    "31 \n",
    "No Found! \n",
    "29 "
   ]
  },
  {
   "cell_type": "code",
   "execution_count": 11,
   "metadata": {},
   "outputs": [
    {
     "name": "stdout",
     "output_type": "stream",
     "text": [
      "['Apr', 'Aug', 'Dec', 'Feb', 'Jan', 'Jul', 'Jun', 'Mar', 'May', 'Nov', 'Oct', 'Sep']\n",
      "[28, 30, 30, 30, 30, 31, 31, 31, 31, 31, 31, 31]\n",
      "[('Apr', 30), ('Aug', 31), ('Dec', 31), ('Feb', 28), ('Jan', 31), ('Jul', 31), ('Jun', 30), ('Mar', 31), ('May', 31), ('Nov', 30), ('Oct', 31), ('Sep', 30)]\n",
      "31\n",
      "None\n",
      "29\n"
     ]
    }
   ],
   "source": [
    "a = ['Jan', 'Feb', 'Mar', 'Apr', 'May', 'Jun', 'Jul', 'Aug', 'Sep', 'Oct', 'Thi']\n",
    "b = [31, 28, 31, 30, 31, 30, 31, 31, 30, 31, 40]\n",
    "aa = dict(zip(a,b))\n",
    "x = {'Nov':30, 'Dec':31}\n",
    "aa.update(x)\n",
    "aa.pop('Thi')\n",
    "b = list(aa.keys())\n",
    "b.sort()\n",
    "c = list(aa.values())\n",
    "c.sort()\n",
    "d =sorted(aa.items(), key = lambda d:d[0])\n",
    "e = aa['Mar']\n",
    "f = aa.get('Abc')\n",
    "aa['Feb'] = 29\n",
    "print(b)\n",
    "print(c)\n",
    "print(d)\n",
    "print(e)\n",
    "print(f)\n",
    "print(aa['Feb'])"
   ]
  },
  {
   "cell_type": "markdown",
   "metadata": {},
   "source": [
    "4.2: 题目描述\n",
    "自行创建字典储存国家与首都对，如下（可增加不可删减）： \n",
    "国家名            首都 \n",
    "China              Beijing \n",
    "America          Washington \n",
    "Japan             Tokyo \n",
    "Canada           Ottawa \n",
    "Thailand         Bangkok \n",
    "Norway          Oslo \n",
    "Germany        Berlin \n",
    "France           Paris \n",
    "编写程序输入一个国家名后，显示该国家的首都，首都首字母需大写。 \n",
    "输入\n",
    "China\n",
    "输出\n",
    "Beijing"
   ]
  },
  {
   "cell_type": "code",
   "execution_count": 12,
   "metadata": {
    "scrolled": true
   },
   "outputs": [
    {
     "name": "stdout",
     "output_type": "stream",
     "text": [
      "China\n",
      "Beijing\n"
     ]
    }
   ],
   "source": [
    "a = ['China', 'America', 'Japan', 'Canada', 'Thailand', 'Norway', 'Germany', 'France']\n",
    "b = ['Beijing', 'Washington', 'Tokyo', 'Ottawa', 'Bangkok', 'Oslo', 'Berlin', 'Paris']\n",
    "aa = dict(zip(a,b))\n",
    "m = str(input())\n",
    "c = aa[m]\n",
    "print(c)"
   ]
  },
  {
   "cell_type": "markdown",
   "metadata": {},
   "source": [
    "4.3: 题目描述\n",
    "设有集合A和B: \n",
    "A={'red','blue','yellow','green','white','black'} \n",
    "B={'green','purple','yellow','pink'} \n",
    "求这两个集合的并集、差集（两种情况都要输出，先A-B）、交集和对称差分，并按ASCII码顺序，分行输出。 \n",
    "输入\n",
    "\n",
    "输出\n",
    "['black', 'blue', 'green', 'pink', 'purple', 'red', 'white', 'yellow'] \n",
    "['black', 'blue', 'red', 'white'] \n",
    "['pink', 'purple'] \n",
    "['green', 'yellow'] \n",
    "['black', 'blue', 'pink', 'purple', 'red', 'white'] "
   ]
  },
  {
   "cell_type": "code",
   "execution_count": 13,
   "metadata": {},
   "outputs": [
    {
     "name": "stdout",
     "output_type": "stream",
     "text": [
      "['black', 'blue', 'green', 'pink', 'purple', 'red', 'white', 'yellow']\n",
      "['black', 'blue', 'red', 'white']\n",
      "['pink', 'purple']\n",
      "['green', 'yellow']\n",
      "['black', 'blue', 'pink', 'purple', 'red', 'white']\n"
     ]
    }
   ],
   "source": [
    "A = {'red', 'blue', 'yellow', 'green', 'white', 'black'}\n",
    "B = {'green', 'purple', 'yellow', 'pink'}\n",
    "A1 = sorted(list(A|B))\n",
    "A2 = sorted(list(A - B))\n",
    "A3 = sorted(list(B - A))\n",
    "A4 = sorted(list(A & B))\n",
    "A5 = sorted(list(A ^ B))\n",
    "print(A1, '\\n', A2, '\\n', A3, '\\n', A4, '\\n', A5, sep = '')"
   ]
  },
  {
   "cell_type": "markdown",
   "metadata": {},
   "source": [
    "4.4: 题目描述\n",
    "歌唱比赛进行海选活动，歌手分为两组，按序号进行投票，第一组歌手的编号为1、2、3、4、5，第二组歌手的编号为6、7、8、9、10，投票编号为4、7、9、1、2、2、6、2、2、1、6、9、7、4、5、5、7、9、5、5、4（前3组数据请自行构建），请对投票数据进行分析，完成以下问题(全部以字符形式输出，并且先进行输入)： \n",
    "(1)求获得了选票的全部歌手的序号，按字典序输出； \n",
    "(2)求第一组获得选票的歌手的序号，按字典序输出； \n",
    "(3)求第二组没有获得选票的歌手，按字典序输出； \n",
    "(4)对任意给定的歌手编号，判断其是否获得投票，获得投票则输出'Y'，没有获得则输出'N'。 \n",
    "\n",
    "输入\n",
    "2\n",
    "输出\n",
    "['1', '2', '4', '5', '6', '7', '9'] \n",
    "['1', '2', '4', '5'] \n",
    "['10','8'] \n",
    "Y"
   ]
  },
  {
   "cell_type": "code",
   "execution_count": 14,
   "metadata": {},
   "outputs": [
    {
     "name": "stdout",
     "output_type": "stream",
     "text": [
      "2\n",
      "['1', '2', '4', '5', '6', '7', '9']\n",
      "['1', '2', '4', '5']\n",
      "['10', '8']\n",
      "Y\n"
     ]
    }
   ],
   "source": [
    "m = str(input())\n",
    "a = ['1','2','3','4','5']\n",
    "b = ['6','7','8','9','10']\n",
    "c = ['4','7','9','1','2','2','6','2','2','1','6','9','7','4','5','5','7','9','5','5','4']\n",
    "aa, bb, dd = [], [], []\n",
    "for i in range(0,5):\n",
    "    if a[i] in c:\n",
    "        aa.append(a[i])\n",
    "    if b[i] in c:\n",
    "        bb.append(b[i])\n",
    "    if b[i] not in c:\n",
    "        dd.append(b[i])\n",
    "dd.reverse() \n",
    "print(aa + bb)\n",
    "print(aa)\n",
    "print(dd)\n",
    "if m in c:\n",
    "    print(\"Y\")\n",
    "else:\n",
    "    print(\"N\")"
   ]
  },
  {
   "cell_type": "markdown",
   "metadata": {},
   "source": [
    "4.5: 题目描述\n",
    "\n",
    "BMI是世界公认的⼀一种评定肥胖程度的分级方法，世界卫生组织(WHO)也以BMI来对肥胖或超重进⾏定义。它的定义如下:\n",
    "体质指数(BMI)=体重(kg)÷身⾼(m)^2\n",
    "当BMI大于等于18.5小于等于23.9时属正常。请输⼊入你或同伴的体重和身高计算BMI值，并输出胖瘦判断的结果。大于23.9输出fat，小于等于23.9大于等于18.5输出normal，小于18.5输出slim \n",
    "\n",
    "输入\n",
    "70 1.75\n",
    "输出\n",
    "normal "
   ]
  },
  {
   "cell_type": "code",
   "execution_count": 1,
   "metadata": {},
   "outputs": [
    {
     "name": "stdout",
     "output_type": "stream",
     "text": [
      "70 1.75\n",
      "normal\n"
     ]
    }
   ],
   "source": [
    "a = input().split()\n",
    "b = float(a[0])\n",
    "c = float(a[1])\n",
    "d = b / pow(c,2)\n",
    "if d >= 18.5 and d <=23.9:\n",
    "    print(\"normal\")\n",
    "elif d < 18.5:\n",
    "    print(\"slim\")\n",
    "else:\n",
    "    print(\"fat\")"
   ]
  },
  {
   "cell_type": "markdown",
   "metadata": {},
   "source": [
    "4.6: 题目描述\n",
    "编写⼀个程序输入美元转换为人民币的汇率，表示转换方式的数字（0表示将美元转换为人民币；1表示将人民币转换为美元；其他数字则直接输出“Incorrect Input”），以及需要转换的金钱数值，最后将用户输入的美元数或⼈民币数分别转换为⼈民币或美元 (保留一位小数) \n",
    "输出形式如下： \n",
    "$100.0 is 681.0 yuan \n",
    "681.0 yuan is $100.0"
   ]
  },
  {
   "cell_type": "code",
   "execution_count": 2,
   "metadata": {},
   "outputs": [
    {
     "name": "stdout",
     "output_type": "stream",
     "text": [
      "6.81 0 100 \n",
      "$100.0 is 681.0 yuan\n"
     ]
    }
   ],
   "source": [
    "a = input().split()\n",
    "b = float(a[0])\n",
    "c = int(a[1])\n",
    "d = float(a[2])\n",
    "if c == 0:\n",
    "    e = round(b * d,1)\n",
    "    d = round(d,1)\n",
    "    print('$', d, ' ', 'is', ' ', e, ' ', 'yuan',sep = '')\n",
    "elif c == 1:\n",
    "    e = round(d / b,1)\n",
    "    d = round(d,1)\n",
    "    print(d, ' ', 'yuan is $', e, sep = '')\n",
    "else:\n",
    "    print(\"Incorrect Input\")"
   ]
  },
  {
   "cell_type": "markdown",
   "metadata": {},
   "source": [
    "4.7: 题目描述\n",
    " 输入一个测验成绩，根据下面的标准，输出他的评分成绩（A-F）。 A: 90–100 B: 80–89 C: 70–79 D: 60–69 F: <60  \n",
    "输入\n",
    "从标准输入流读入一个整数\n",
    "输出\n",
    "输出一个字符表示该成绩所属于的等级"
   ]
  },
  {
   "cell_type": "code",
   "execution_count": 3,
   "metadata": {},
   "outputs": [
    {
     "name": "stdout",
     "output_type": "stream",
     "text": [
      "40\n",
      "F\n"
     ]
    }
   ],
   "source": [
    "a = int(input())\n",
    "if a >=90 and a <=100:\n",
    "    print(\"A\")\n",
    "elif a >=80 and a <= 89:\n",
    "    print(\"B\")\n",
    "elif a >=70 and a <= 79:\n",
    "    print(\"C\")\n",
    "elif a >=60 and a <= 69:\n",
    "    print(\"D\")\n",
    "elif a < 60:\n",
    "    print(\"F\")"
   ]
  },
  {
   "cell_type": "markdown",
   "metadata": {},
   "source": [
    "4.8: 题目描述\n",
    "创建一个字典，键保存用户名'dazhuang'，密码为'233'，用户名和密码对不限于此，但必须包括上述键值对。设计一个登录检查程序，只有用户名和密码都正确的用户才能登录，登录成功则显示'Yes!’,登录失败则显示‘Wrong!'\n",
    "输入\n",
    "dazhuang,233\n",
    "输出\n",
    "Yes!"
   ]
  },
  {
   "cell_type": "code",
   "execution_count": 4,
   "metadata": {},
   "outputs": [
    {
     "name": "stdout",
     "output_type": "stream",
     "text": [
      "dazhuang,233\n",
      "Yes!\n"
     ]
    }
   ],
   "source": [
    "r = input().split(\",\")\n",
    "d = str(r[0])\n",
    "e = int(r[1])\n",
    "a = ['aaa', 'bbb', 'ccc', 'ddd', 'eee', 'dazhuang']\n",
    "b = [1, 2, 3, 4, 5, 233]\n",
    "aa = dict(zip(a,b))\n",
    "if d in a:  \n",
    "    if aa[d] == e:\n",
    "        print('Yes!')\n",
    "    else:\n",
    "        print('Wrong!')\n",
    "else:\n",
    "    print('Wrong!') "
   ]
  },
  {
   "cell_type": "markdown",
   "metadata": {},
   "source": [
    "5.1: 题目描述\n",
    "利用公式C= 5/9×(F-32) 将华氏温度转换成摄氏温度，并产生一张华氏0～300度与对应的摄氏温度之间的对照表（每隔30度输出一次）\n",
    "输入\n",
    "无\n",
    "输出\n",
    "0 -300华氏度与其对应的摄氏度,一行输出一组华氏度与摄氏度, 华氏度在前,摄氏度在后, 每隔30度输出一次,小数点后保留6位."
   ]
  },
  {
   "cell_type": "code",
   "execution_count": 6,
   "metadata": {},
   "outputs": [
    {
     "name": "stdout",
     "output_type": "stream",
     "text": [
      "0 -17.777778\n",
      "30 -1.111111\n",
      "60 15.555556\n",
      "90 32.222222\n",
      "120 48.888889\n",
      "150 65.555556\n",
      "180 82.222222\n",
      "210 98.888889\n",
      "240 115.555556\n",
      "270 132.222222\n",
      "300 148.888889\n"
     ]
    }
   ],
   "source": [
    "for i in range(0,301,30):\n",
    "    j = 5/9 * (i-32)\n",
    "    print(i,\"%.6f\" % j)"
   ]
  },
  {
   "cell_type": "markdown",
   "metadata": {},
   "source": [
    "5.2: 题目描述\n",
    "输入一行字符，分别统计出其中英文字母、空格、数字和其它字符的个数。 \n",
    "输入\n",
    "输入为一行字符\n",
    "输出\n",
    "输出统计各种种类字符的个数，第一行输出英文字母的个数，第二行输出空格的个数，第三行输出数字字符的个数，第四行输出其他字符的个数"
   ]
  },
  {
   "cell_type": "code",
   "execution_count": 3,
   "metadata": {},
   "outputs": [
    {
     "name": "stdout",
     "output_type": "stream",
     "text": [
      "a 1?\n",
      "1\n",
      "1\n",
      "1\n",
      "1\n"
     ]
    }
   ],
   "source": [
    "a = input()\n",
    "a1,a2,a3,a4 = 0,0,0,0\n",
    "for i in range(0,len(a)):\n",
    "    if a[i].isalpha() == True:\n",
    "        a1 = a1 + 1\n",
    "    elif a[i] == ' ':\n",
    "        a2 = a2 + 1\n",
    "    elif a[i].isnumeric() == True:\n",
    "        a3 = a3 + 1\n",
    "    else:\n",
    "        a4 = a4 +1\n",
    "print(a1, '\\n', a2, '\\n', a3, '\\n', a4, sep = '')    "
   ]
  },
  {
   "cell_type": "markdown",
   "metadata": {},
   "source": [
    "5.3: 题目描述\n",
    "输入数组，最大的与第一个元素交换，最小的与最后一个元素交换，输出数组。\n",
    "输入\n",
    "输入是一行，有多个整数，每个整数之间用空格隔开。\n",
    "输出\n",
    "输出元素交换过的列表。"
   ]
  },
  {
   "cell_type": "code",
   "execution_count": 13,
   "metadata": {},
   "outputs": [
    {
     "name": "stdout",
     "output_type": "stream",
     "text": [
      "1 2 3 7 9 8\n",
      "[9, 2, 3, 7, 8, 1]\n"
     ]
    }
   ],
   "source": [
    "a = list(input().split())\n",
    "b,c = 0,0\n",
    "for i in range(0,len(a)):\n",
    "    a[i] = int(a[i])\n",
    "for i in range(0,len(a)):\n",
    "    if a[i] == max(a):\n",
    "        b = a[i]\n",
    "        a[i] = a[0]\n",
    "        a[0] = b\n",
    "    if a[i] == min(a):\n",
    "        c = a[i]\n",
    "        a[i] = a[-1]\n",
    "        a[-1] = c\n",
    "print(a)"
   ]
  },
  {
   "cell_type": "markdown",
   "metadata": {},
   "source": [
    "5.4: 题目描述\n",
    "求s=a+aa+aaa+aaaa+aa...a的值，其中a（键盘输入）是一个数字，例如2+22+222+2222+22222(此时共有5个数相加)，几个数相加也由键盘输入控制。\n",
    "输入\n",
    "输入（由系统自动完成不需要人工输入）为一行，有两个整数由一个空格隔开，前一个数字代表题目中的a，另一个数字代表有几个数相加。\n",
    "输出\n",
    "输出题目中S的值\n",
    "a, n = [int(x) for x in input().split()]"
   ]
  },
  {
   "cell_type": "code",
   "execution_count": 17,
   "metadata": {},
   "outputs": [
    {
     "name": "stdout",
     "output_type": "stream",
     "text": [
      "2 5\n",
      "24690\n"
     ]
    }
   ],
   "source": [
    "a = input().split()\n",
    "a1 = int(a[0])\n",
    "a2 = int(a[1])\n",
    "a3,a4 = 0,0\n",
    "for i in range(0,a2):\n",
    "    a3 = a3 + a1 * pow(10,i)\n",
    "    a4 = a4 + a3\n",
    "print(a4)"
   ]
  },
  {
   "cell_type": "markdown",
   "metadata": {},
   "source": [
    "5.5:题目描述\n",
    "利用Python中的random模块生成1000个0到100之间的随机整数，并统计每个元素的出现次数。为了保持测试数据的一致性，代码中利用random模块生成1000个数据时需要像如下形式： \n",
    "import random \n",
    "random.seed(0) \n",
    "x=[random.randint(0,100) for i in range(1000)] \n",
    "请在编写代码时按照上面的方式生成数据 \n",
    "输入\n",
    "无\n",
    "输出\n",
    "输出每种元素的统计个数，每行一个按照元素从小到大的顺序从上到下输出，中间用一个空格隔开。输出格式（非内容）如下： \n",
    "0 3 \n",
    "1 5 \n",
    "... \n",
    "表示元素0出现3次，1出现5次等等。 "
   ]
  },
  {
   "cell_type": "code",
   "execution_count": 36,
   "metadata": {
    "scrolled": true
   },
   "outputs": [
    {
     "name": "stdout",
     "output_type": "stream",
     "text": [
      "0   11\n",
      "1   11\n",
      "2   9\n",
      "3   8\n",
      "4   14\n",
      "5   16\n",
      "6   3\n",
      "7   10\n",
      "8   11\n",
      "9   11\n",
      "10   16\n",
      "11   12\n",
      "12   12\n",
      "13   10\n",
      "14   13\n",
      "15   16\n",
      "16   12\n",
      "17   8\n",
      "18   13\n",
      "19   14\n",
      "20   10\n",
      "21   5\n",
      "22   5\n",
      "23   11\n",
      "24   12\n",
      "25   7\n",
      "26   14\n",
      "27   7\n",
      "28   10\n",
      "29   5\n",
      "30   8\n",
      "31   6\n",
      "32   11\n",
      "33   11\n",
      "34   4\n",
      "35   9\n",
      "36   6\n",
      "37   18\n",
      "38   15\n",
      "39   8\n",
      "40   7\n",
      "41   9\n",
      "42   14\n",
      "43   9\n",
      "44   6\n",
      "45   16\n",
      "46   5\n",
      "47   12\n",
      "48   9\n",
      "49   11\n",
      "50   11\n",
      "51   10\n",
      "52   5\n",
      "53   20\n",
      "54   10\n",
      "55   6\n",
      "56   8\n",
      "57   12\n",
      "58   8\n",
      "59   7\n",
      "60   11\n",
      "61   11\n",
      "62   9\n",
      "63   12\n",
      "64   7\n",
      "65   4\n",
      "66   13\n",
      "67   11\n",
      "68   7\n",
      "69   10\n",
      "70   10\n",
      "71   8\n",
      "72   12\n",
      "73   6\n",
      "74   8\n",
      "75   9\n",
      "76   11\n",
      "77   14\n",
      "78   10\n",
      "79   8\n",
      "80   15\n",
      "81   15\n",
      "82   6\n",
      "83   9\n",
      "84   7\n",
      "85   6\n",
      "86   17\n",
      "87   10\n",
      "88   5\n",
      "89   19\n",
      "90   13\n",
      "91   9\n",
      "92   3\n",
      "93   11\n",
      "94   6\n",
      "95   8\n",
      "96   11\n",
      "97   7\n",
      "98   5\n",
      "99   9\n",
      "100   11\n"
     ]
    }
   ],
   "source": [
    "import random \n",
    "random.seed(0) \n",
    "x=[random.randint(0,100) for i in range(1000)] \n",
    "x.sort()\n",
    "for i in range(0,101):\n",
    "    if i in x:\n",
    "        n = 0\n",
    "        for j in range(0,1000):\n",
    "            if i == x[j]:\n",
    "                n = n + 1\n",
    "        print(i,n)\n",
    "    else:\n",
    "        print(i,0)\n"
   ]
  },
  {
   "cell_type": "markdown",
   "metadata": {},
   "source": [
    "5.6: 题目描述\n",
    "要求输出国际象棋棋盘。国际象棋（chess）棋盘为正方形，有64个黑白（深色与浅色）相同的格子组成；如下图：\n",
    "\n",
    "\n",
    "输入\n",
    "无\n",
    "输出\n",
    "输出国际象棋棋盘，白色方格用空格代替，黑色方格用字符 * 代替。"
   ]
  },
  {
   "cell_type": "code",
   "execution_count": 62,
   "metadata": {},
   "outputs": [
    {
     "name": "stdout",
     "output_type": "stream",
     "text": [
      " * * * *\n",
      "\n",
      "* * * * \n",
      "\n",
      " * * * *\n",
      "\n",
      "* * * * \n",
      "\n",
      " * * * *\n",
      "\n",
      "* * * * \n",
      "\n",
      " * * * *\n",
      "\n",
      "* * * * \n",
      "\n"
     ]
    }
   ],
   "source": [
    "for i in range(0,8):\n",
    "    for j in range(0,8):\n",
    "        if (i + j) % 2 == 0:\n",
    "            print(' ',sep='',end='')\n",
    "        else:\n",
    "            print('*',sep='',end='')\n",
    "    print('\\n',sep = '',end = '')"
   ]
  },
  {
   "cell_type": "markdown",
   "metadata": {},
   "source": [
    "5.7: 题目描述\n",
    "按递增顺序依次列出所有分母为40，分子小于40的最简分数。 \n",
    "输入\n",
    "\n",
    "输出\n",
    "分数之间用逗号分开(含最末逗号) "
   ]
  },
  {
   "cell_type": "code",
   "execution_count": 81,
   "metadata": {},
   "outputs": [
    {
     "name": "stdout",
     "output_type": "stream",
     "text": [
      "1/40,3/40,5/40,7/40,9/40,11/40,13/40,15/40,17/40,19/40,21/40,23/40,25/40,27/40,29/40,31/40,33/40,35/40,37/40,39/40,"
     ]
    }
   ],
   "source": [
    "for i in range(1,40):\n",
    "    for j in range(2,40):\n",
    "        if 40 % j == 0 and i % j == 0:\n",
    "            a = 0\n",
    "        else:\n",
    "            print(i,'/','40',',',sep = '', end = '')\n",
    "        break"
   ]
  }
 ],
 "metadata": {
  "kernelspec": {
   "display_name": "Python 3",
   "language": "python",
   "name": "python3"
  },
  "language_info": {
   "codemirror_mode": {
    "name": "ipython",
    "version": 3
   },
   "file_extension": ".py",
   "mimetype": "text/x-python",
   "name": "python",
   "nbconvert_exporter": "python",
   "pygments_lexer": "ipython3",
   "version": "3.7.0"
  }
 },
 "nbformat": 4,
 "nbformat_minor": 2
}
