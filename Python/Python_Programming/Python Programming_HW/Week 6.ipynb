{
 "cells": [
  {
   "cell_type": "markdown",
   "metadata": {},
   "source": [
    "6.1 题目描述\n",
    "\n",
    "素数有很多神奇的性质，所以很美。我们知道一个日期将年、月、日按顺序连接在一起可以组成一个八位数，例如2011年3月6日可以写成20110306。我的某个MM的生日组成的数是一个素数。偶尔我叫她素MM，没人知道是啥意思，她自己也不知道。O(∩_∩)O哈哈~我心里可是真的美美的(⊙o⊙)哦！ \n",
    "嗯，什么？你的生日也是素数？你也想做“素MM”或者“素GG”？那好吧，不过我可是很小气的哦！只有你出生在1988年或者1989年我才让你做“素MM”或“素GG”。要不然，你把这两年里日期组成的数是素数的找出来也可以. \n",
    "输入\n",
    "\n",
    "无 \n",
    "输出\n",
    "\n",
    "1988年与1989年，这两年里的日期所组成的素数。每个素数占一行（用换行符输出，最后一行不需要退格处理）。 "
   ]
  },
  {
   "cell_type": "code",
   "execution_count": 16,
   "metadata": {},
   "outputs": [
    {
     "name": "stdout",
     "output_type": "stream",
     "text": [
      "19880101\n",
      "19880111\n",
      "19880117\n",
      "19880129\n",
      "19880221\n",
      "19880317\n",
      "19880321\n",
      "19880323\n",
      "19880417\n",
      "19880501\n",
      "19880519\n",
      "19880521\n",
      "19880603\n",
      "19880629\n",
      "19880711\n",
      "19880719\n",
      "19880723\n",
      "19880807\n",
      "19880911\n",
      "19881019\n",
      "19881101\n",
      "19881227\n",
      "19881229\n",
      "19890103\n",
      "19890107\n",
      "19890307\n",
      "19890413\n",
      "19890503\n",
      "19890509\n",
      "19890517\n",
      "19890523\n",
      "19890707\n",
      "19890713\n",
      "19890817\n",
      "19890911\n",
      "19890919\n",
      "19891007\n",
      "19891019\n",
      "19891031\n",
      "19891103\n",
      "19891117\n",
      "19891127\n",
      "19891213\n",
      "19891229\n"
     ]
    }
   ],
   "source": [
    "from math import sqrt\n",
    "def isprime(x):\n",
    "    if x == 1:\n",
    "        return False\n",
    "    k = int(sqrt(x))\n",
    "    for j in range(2,k+1):\n",
    "        if x%j == 0:\n",
    "            return False\n",
    "    return True\n",
    "for i in range(1988,1990):\n",
    "    for j in range(1,13):\n",
    "        for m in range(1,32):\n",
    "            ii = str(i)\n",
    "            if j < 10:\n",
    "                jj = '0' + str(j)\n",
    "            if j >= 10:\n",
    "                jj = str(j)\n",
    "            if m < 10:\n",
    "                mm = '0' + str(m)\n",
    "            if m >= 10:\n",
    "                mm = str(m)\n",
    "            if j in (1,3,5,7,8,10,12):\n",
    "                aa = int(ii + jj + mm )\n",
    "                if isprime(aa):\n",
    "                    print(aa)\n",
    "            elif j in (4,6,9,11):\n",
    "                if m > 30:\n",
    "                    break\n",
    "                aa = int(ii + jj + mm )\n",
    "                if isprime(aa):\n",
    "                    print(aa)\n",
    "            elif j == 2:\n",
    "                if m > 29:\n",
    "                    break\n",
    "                aa = int(ii + jj + mm )\n",
    "                if isprime(aa):\n",
    "                    print(aa)\n",
    "                \n",
    "    "
   ]
  },
  {
   "cell_type": "markdown",
   "metadata": {},
   "source": [
    "6.2 题目描述\n",
    "输出所有的\"水仙花数\"。所谓\"水仙花数\"是指这样的一个三位数：其各位数字的立方和等于该数本身。例如：371是一个\"水仙花数\"，371=33+73+13. \n",
    "输入\n",
    "无\n",
    "输出\n",
    "输出所有的水仙花数，每行一个（注意输出格式！）"
   ]
  },
  {
   "cell_type": "code",
   "execution_count": 27,
   "metadata": {},
   "outputs": [
    {
     "name": "stdout",
     "output_type": "stream",
     "text": [
      "153\n",
      "370\n",
      "371\n",
      "407\n"
     ]
    }
   ],
   "source": [
    "def isdaffodil(x):\n",
    "    if x < 99 or x > 999:\n",
    "        return False\n",
    "    x1 = x // 100\n",
    "    x2 = x //10 % 10\n",
    "    x3 = x % 10\n",
    "    if x ==  pow(x1,3) + pow(x2,3) + pow(x3,3):\n",
    "        return True\n",
    "    return False\n",
    "a = 100 \n",
    "for i in range(100,1000):\n",
    "    if isdaffodil(i):\n",
    "        print(i)"
   ]
  },
  {
   "cell_type": "markdown",
   "metadata": {},
   "source": [
    "6.3 题目描述\n",
    "相传韩信将军才智过人，从不直接清点自己军队的人数，只要让士兵先后以三人一排，五人一排，七人一排的变换队形，而他每次只掠一眼队伍的排尾就知道总人数了。输入包含多组数据，每组数据包含三个非负整数a，b，c，表示每种队形排尾的人数（a<3,b<5,c<7），输出总人数的最小值（或者报告无解）。已知总人数不小于10，不超过100。 \n",
    "输入\n",
    "输入包含多组数据，每组一行三个整数a，b，c\n",
    "输出\n",
    "输出每行对应的总人数的最小值，若无解则输出“No answer”"
   ]
  },
  {
   "cell_type": "code",
   "execution_count": 1,
   "metadata": {
    "scrolled": true
   },
   "outputs": [
    {
     "name": "stdout",
     "output_type": "stream",
     "text": [
      "2 1 3\n",
      "No answer\n",
      "2 1 6\n",
      "41\n",
      "\n"
     ]
    }
   ],
   "source": [
    "def hanxin(a):\n",
    "    flag = True\n",
    "    for i in range(10,101):\n",
    "        if i % 3 == a[0]:\n",
    "            if i % 5 == a[1]:\n",
    "                if i % 7 == a[2]:\n",
    "                    flag = False\n",
    "                    break\n",
    "    if flag:\n",
    "        return \"No answer\"\n",
    "    else:\n",
    "        return i\n",
    "\n",
    "while True:\n",
    "    s = input()\n",
    "    if s == '':\n",
    "       break\n",
    "    a = [int(x) for x in s.split()]\n",
    "    print(hanxin(a))"
   ]
  },
  {
   "cell_type": "markdown",
   "metadata": {},
   "source": [
    "6.4 题目描述\n",
    "采用递推法计算sinx幂级数展开式的近似值，当通项绝对值小于10-8时停止累加，保留1位小数。\n",
    "sinx=x/1-x3/3!+x5/5!-x7/7!…\n",
    "\n",
    "输入\n",
    "在程序中用x = float(input())表示输入，x由系统自动输入（无需人工输入）"
   ]
  },
  {
   "cell_type": "code",
   "execution_count": 13,
   "metadata": {},
   "outputs": [
    {
     "name": "stdout",
     "output_type": "stream",
     "text": [
      "1.57\n",
      "1.0\n"
     ]
    }
   ],
   "source": [
    "def factorial(n):\n",
    "    if n == 0 or n == 1:\n",
    "        return 1\n",
    "    else:\n",
    "        return n*factorial(n-1)\n",
    "x = float(input())\n",
    "s = 0\n",
    "j = 0\n",
    "i = 1\n",
    "while abs(pow(x,i)/ factorial(i) * pow(-1,j)) > 1e-8 :\n",
    "    s = s + pow(x,i)/ factorial(i) * pow(-1,j)\n",
    "    i = i + 2\n",
    "    j = j + 1\n",
    "print(\"%.1f\" % s)\n",
    "\n"
   ]
  },
  {
   "cell_type": "markdown",
   "metadata": {},
   "source": [
    "6.5 题目描述\n",
    "输入n(n<=100)个整数，按照绝对值从大到小排序后输出。题目保证对于每一个测试实例，所有的数的绝对值都不相等。\n",
    "输入\n",
    "首先输入一个整数代表有多少组，每组占一行，每行有若干个整数用空格彼此隔开\n",
    "输出\n",
    "对于每个每行的测试实例，输出排序后的结果，两个数之间用一个空格隔开（注意每行最后一个数的结尾也有空格）。每个测试实例占一行"
   ]
  },
  {
   "cell_type": "code",
   "execution_count": 23,
   "metadata": {},
   "outputs": [
    {
     "name": "stdout",
     "output_type": "stream",
     "text": [
      "2\n",
      "1 2 3\n",
      "3 2 1 \n",
      "1 2 3\n",
      "3 2 1 \n"
     ]
    }
   ],
   "source": [
    "n=int(input())\n",
    "for i in range(n):\n",
    "    s = input()\n",
    "    a = [int(x) for x in s.split()]\n",
    "    a = sorted(a, key=abs, reverse = True)   \n",
    "    for j in range(len(a)):\n",
    "        if j < len(a)-1:\n",
    "            print(a[j],' ',sep = '',end = '')\n",
    "        if j == len(a)-1:\n",
    "            print(a[j],' ',sep = '')"
   ]
  },
  {
   "cell_type": "markdown",
   "metadata": {},
   "source": [
    "6.6 题目描述\n",
    "求矩阵的两对角线上的元素之和\n",
    "输入\n",
    "矩阵的行数N \n",
    "和一个N*N的整数矩阵a[N][N](N<=10)\n",
    "输出\n",
    "所输矩阵的两对角线上的元素之和"
   ]
  },
  {
   "cell_type": "code",
   "execution_count": 24,
   "metadata": {},
   "outputs": [
    {
     "name": "stdout",
     "output_type": "stream",
     "text": [
      "4\n",
      "1 2 3 4\n",
      "1 2 3 4\n",
      "1 2 3 4\n",
      "1 2 3 4\n",
      "20\n"
     ]
    }
   ],
   "source": [
    "import numpy as np\n",
    "n = int(input())\n",
    "aa = []\n",
    "s2,s1,j = 0,0,n-1\n",
    "for i in range(n):\n",
    "    s = input()\n",
    "    a = [int(x) for x in s.split()]\n",
    "    aa.append(a)\n",
    "m1 = np.matrix(aa)\n",
    "if n % 2 == 0:\n",
    "    for i in range(n):\n",
    "        s1 = s1 + m1[i,i]\n",
    "        s2 = s2 + m1[i,j]\n",
    "        j = j - 1\n",
    "    print(s1+s2)\n",
    "if n % 2 == 1:\n",
    "    for i in range(n):\n",
    "        s1 = s1 + m1[i,i]\n",
    "        s2 = s2 + m1[i,j]\n",
    "        j = j - 1\n",
    "    print(s1+s2-m1[n//2,n//2])"
   ]
  },
  {
   "cell_type": "code",
   "execution_count": 23,
   "metadata": {},
   "outputs": [
    {
     "name": "stdout",
     "output_type": "stream",
     "text": [
      "4\n",
      "1 2 3 4\n",
      "1 2 3 4\n",
      "1 2 3 4\n",
      "1 2 3 4\n",
      "20\n"
     ]
    }
   ],
   "source": [
    "n=int(input())\n",
    "result=[]\n",
    "s=0\n",
    "for i in range(n):\n",
    "    lst=[int(x) for x in input().split()]\n",
    "    result.append(lst)\n",
    "if n%2==0:\n",
    "    for j in range(n):    \n",
    "        s+=result[j][j]+result[j][n-1-j]\n",
    "    print(s)\n",
    "else:\n",
    "    for j in range(n):    \n",
    "        s+= result[j][j]+result[j][n-1-j]\n",
    "    s+=-(result[int((n-1)/2)][int((n-1)/2)])\n",
    "    print(s)"
   ]
  },
  {
   "cell_type": "markdown",
   "metadata": {},
   "source": [
    "6.7 题目描述\n",
    "从键盘输入一个英文句子，除单词和空白字符（包括空格和换行符等）外句子中只包含“,“、”.”、“ ' ”、“ \" ”和“!”几个标点符号，统计句子中包括的每个单词（将句中大写全部转换成小写）的词频并将结果保存在字典中，先按词频从小到到输出，再按键进行排序。\n",
    "输入\n",
    "This is a sentence a.\n",
    "输出\n",
    "is 1\n",
    "sentence 1\n",
    "this 1\n",
    "a 2 "
   ]
  },
  {
   "cell_type": "code",
   "execution_count": 47,
   "metadata": {},
   "outputs": [
    {
     "name": "stdout",
     "output_type": "stream",
     "text": [
      "This is a sentence a.\n",
      "is 1\n",
      "sentence 1\n",
      "this 1\n",
      "a 2\n"
     ]
    }
   ],
   "source": [
    "str0=input()\n",
    "dict1={}\n",
    "str0=str0.lower()\n",
    "aremove=[',','.','\\'','\\\"','!']\n",
    "for dele in aremove:\n",
    "    str0=str0.replace(dele,'')\n",
    "    str1=str0.split(' ')\n",
    "for i in range(0,len(str1)):\n",
    "    b=1\n",
    "    if str1[i] in dict1:\n",
    "        dict1[str1[i]]=dict1[str1[i]]+1\n",
    "    else:\n",
    "        dict1[str1[i]]=b\n",
    "dict1=sorted(dict1.items(),key=lambda x:(x[1],x[0]))\n",
    "for i in range(len(dict1)):\n",
    "    print(dict1[i][0],\" \",dict1[i][1],sep = \"\")"
   ]
  }
 ],
 "metadata": {
  "kernelspec": {
   "display_name": "Python 3",
   "language": "python",
   "name": "python3"
  },
  "language_info": {
   "codemirror_mode": {
    "name": "ipython",
    "version": 3
   },
   "file_extension": ".py",
   "mimetype": "text/x-python",
   "name": "python",
   "nbconvert_exporter": "python",
   "pygments_lexer": "ipython3",
   "version": "3.7.0"
  }
 },
 "nbformat": 4,
 "nbformat_minor": 2
}
